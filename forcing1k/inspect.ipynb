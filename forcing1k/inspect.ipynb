{
 "cells": [
  {
   "cell_type": "code",
   "execution_count": 17,
   "metadata": {},
   "outputs": [],
   "source": [
    "import jsonlines \n",
    "\n",
    "\n",
    "answers = []\n",
    "extracted_answers = []\n",
    "resps = []\n",
    "with jsonlines.open(\"/home/sjoshi/s1/forcing1k/simplescaling__s1-32B/samples_aime24_nofigures_2025-02-11T11-14-03.037229.jsonl\") as reader:\n",
    "    for line in reader:\n",
    "        answers.append(line[\"doc\"][\"answer\"])\n",
    "        extracted_answers.append(line[\"extracted_answers\"])\n",
    "        resps.append(line[\"resps\"])"
   ]
  },
  {
   "cell_type": "code",
   "execution_count": 13,
   "metadata": {},
   "outputs": [
    {
     "name": "stdout",
     "output_type": "stream",
     "text": [
      "204 ['320']\n",
      "113 ['169']\n",
      "371 ['225']\n",
      "385 ['6']\n",
      "110 ['11']\n",
      "104 ['139']\n",
      "721 ['319']\n",
      "025 ['100']\n",
      "809 ['506']\n",
      "116 ['341']\n"
     ]
    }
   ],
   "source": [
    "for ans, ext in zip(answers[:10], extracted_answers[:10]):\n",
    "    print(ans, ext)"
   ]
  },
  {
   "cell_type": "markdown",
   "metadata": {},
   "source": []
  },
  {
   "cell_type": "code",
   "execution_count": 28,
   "metadata": {},
   "outputs": [
    {
     "name": "stdout",
     "output_type": "stream",
     "text": [
      "[[\"<|im_start|>think\\nThe problem asks for the probability of winning the grand prize given that a prize was won. This is a conditional probability problem.\\n\\nLet $A$ be the event that Jen wins a prize.\\nLet $B$ be the event that Jen wins the grand prize.\\n\\nWe are asked to find $P(B|A) = \\\\frac{P(A \\\\cap B)}{P(A)}$.\\n\\nFirst, let's determine the sample space for the lottery. The number of ways to choose 4 distinct numbers from the set $S=\\\\{1,2,\\\\cdots,10\\\\}$ is $\\\\binom{10}{4}$.\\nThe total number of possible outcomes for the randomly chosen 4 numbers is $\\\\binom{10}{4}$.\\n\\nLet Jen's chosen numbers be $\\\\{j_1, j_2, j_3, j_4\\\\}$, a subset of $S$ of size 4.\\nLet the randomly chosen numbers be $\\\\{r_1, r_2, r_3, r_4\\\\}$, a subset of $S$ of size 4.\\n\\nEvent $A$: At least two of Jen's numbers are among the randomly chosen numbers.\\nThis means $|\\\\{j_1, j_2, j_3, j_4\\\\} \\\\cap \\\\{r_1, r_2, r_3, r_4\\\\}| \\\\ge 2$.\\n\\nEvent $B$: All four of Jen's numbers are the randomly chosen numbers.\\nThis means $\\\\{j_1, j_2, j_3, j_4\\\\} = \\\\{r_1, r_2, r_3, r_4\\\\}$.\\nThe number of ways this can happen is 1, if we consider a specific set of 4 numbers chosen by Jen. However, we need to consider the probability over all possible choices of Jen's numbers.\\n\\nLet's consider a specific set of 4 numbers chosen by Jen, say $J = \\\\{j_1, j_2, j_3, j_4\\\\}$. The number of ways to choose these 4 numbers is $\\\\binom{10}{4}$.\\n\\nNow, consider the random selection of 4 numbers from $S$. There are $\\\\binom{10}{4}$ possible outcomes for this selection, all equally likely.\\n\\nLet Jen's chosen set of 4 numbers be\\n<|im_start|>answer\\nFinal Answer: The final answer is $\\\\boxed{341}$\"]]\n"
     ]
    }
   ],
   "source": [
    "print(resps[9])"
   ]
  }
 ],
 "metadata": {
  "kernelspec": {
   "display_name": "s1",
   "language": "python",
   "name": "python3"
  },
  "language_info": {
   "codemirror_mode": {
    "name": "ipython",
    "version": 3
   },
   "file_extension": ".py",
   "mimetype": "text/x-python",
   "name": "python",
   "nbconvert_exporter": "python",
   "pygments_lexer": "ipython3",
   "version": "3.11.0"
  }
 },
 "nbformat": 4,
 "nbformat_minor": 2
}
